{
 "cells": [
  {
   "cell_type": "markdown",
   "id": "222550fb-e6bf-4dbc-a656-b3326d0dbc88",
   "metadata": {},
   "source": [
    "## Esercizio 6.1"
   ]
  },
  {
   "cell_type": "code",
   "execution_count": 5,
   "id": "f0d88385-880b-4081-b588-b81736283de0",
   "metadata": {},
   "outputs": [
    {
     "name": "stdout",
     "output_type": "stream",
     "text": [
      "Requirement already satisfied: ipython-sql==0.5.0 in c:\\users\\giuli\\pycharmprojects\\datascience\\.env\\lib\\site-packages (0.5.0)Note: you may need to restart the kernel to use updated packages.\n",
      "\n",
      "Requirement already satisfied: prettytable in c:\\users\\giuli\\pycharmprojects\\datascience\\.env\\lib\\site-packages (from ipython-sql==0.5.0) (3.14.0)\n",
      "Requirement already satisfied: ipython in c:\\users\\giuli\\pycharmprojects\\datascience\\.env\\lib\\site-packages (from ipython-sql==0.5.0) (8.32.0)\n",
      "Requirement already satisfied: sqlalchemy>=2.0 in c:\\users\\giuli\\pycharmprojects\\datascience\\.env\\lib\\site-packages (from ipython-sql==0.5.0) (2.0.38)\n",
      "Requirement already satisfied: sqlparse in c:\\users\\giuli\\pycharmprojects\\datascience\\.env\\lib\\site-packages (from ipython-sql==0.5.0) (0.5.3)\n",
      "Requirement already satisfied: six in c:\\users\\giuli\\pycharmprojects\\datascience\\.env\\lib\\site-packages (from ipython-sql==0.5.0) (1.17.0)\n",
      "Requirement already satisfied: ipython-genutils in c:\\users\\giuli\\pycharmprojects\\datascience\\.env\\lib\\site-packages (from ipython-sql==0.5.0) (0.2.0)\n",
      "Requirement already satisfied: greenlet!=0.4.17 in c:\\users\\giuli\\pycharmprojects\\datascience\\.env\\lib\\site-packages (from sqlalchemy>=2.0->ipython-sql==0.5.0) (3.1.1)\n",
      "Requirement already satisfied: typing-extensions>=4.6.0 in c:\\users\\giuli\\pycharmprojects\\datascience\\.env\\lib\\site-packages (from sqlalchemy>=2.0->ipython-sql==0.5.0) (4.12.2)\n",
      "Requirement already satisfied: colorama in c:\\users\\giuli\\pycharmprojects\\datascience\\.env\\lib\\site-packages (from ipython->ipython-sql==0.5.0) (0.4.6)\n",
      "Requirement already satisfied: decorator in c:\\users\\giuli\\pycharmprojects\\datascience\\.env\\lib\\site-packages (from ipython->ipython-sql==0.5.0) (5.1.1)\n",
      "Requirement already satisfied: jedi>=0.16 in c:\\users\\giuli\\pycharmprojects\\datascience\\.env\\lib\\site-packages (from ipython->ipython-sql==0.5.0) (0.19.2)\n",
      "Requirement already satisfied: matplotlib-inline in c:\\users\\giuli\\pycharmprojects\\datascience\\.env\\lib\\site-packages (from ipython->ipython-sql==0.5.0) (0.1.7)\n",
      "Requirement already satisfied: prompt_toolkit<3.1.0,>=3.0.41 in c:\\users\\giuli\\pycharmprojects\\datascience\\.env\\lib\\site-packages (from ipython->ipython-sql==0.5.0) (3.0.50)\n",
      "Requirement already satisfied: pygments>=2.4.0 in c:\\users\\giuli\\pycharmprojects\\datascience\\.env\\lib\\site-packages (from ipython->ipython-sql==0.5.0) (2.19.1)\n",
      "Requirement already satisfied: stack_data in c:\\users\\giuli\\pycharmprojects\\datascience\\.env\\lib\\site-packages (from ipython->ipython-sql==0.5.0) (0.6.3)\n",
      "Requirement already satisfied: traitlets>=5.13.0 in c:\\users\\giuli\\pycharmprojects\\datascience\\.env\\lib\\site-packages (from ipython->ipython-sql==0.5.0) (5.14.3)\n",
      "Requirement already satisfied: wcwidth in c:\\users\\giuli\\pycharmprojects\\datascience\\.env\\lib\\site-packages (from prettytable->ipython-sql==0.5.0) (0.2.13)\n",
      "Requirement already satisfied: parso<0.9.0,>=0.8.4 in c:\\users\\giuli\\pycharmprojects\\datascience\\.env\\lib\\site-packages (from jedi>=0.16->ipython->ipython-sql==0.5.0) (0.8.4)\n",
      "Requirement already satisfied: executing>=1.2.0 in c:\\users\\giuli\\pycharmprojects\\datascience\\.env\\lib\\site-packages (from stack_data->ipython->ipython-sql==0.5.0) (2.2.0)\n",
      "Requirement already satisfied: asttokens>=2.1.0 in c:\\users\\giuli\\pycharmprojects\\datascience\\.env\\lib\\site-packages (from stack_data->ipython->ipython-sql==0.5.0) (3.0.0)\n",
      "Requirement already satisfied: pure-eval in c:\\users\\giuli\\pycharmprojects\\datascience\\.env\\lib\\site-packages (from stack_data->ipython->ipython-sql==0.5.0) (0.2.3)\n"
     ]
    }
   ],
   "source": [
    "%pip install ipython-sql==0.5.0"
   ]
  },
  {
   "cell_type": "markdown",
   "id": "63180c38-1292-439a-b0e8-799d73d49607",
   "metadata": {},
   "source": [
    "*Load the SQL extension*"
   ]
  },
  {
   "cell_type": "code",
   "execution_count": 6,
   "id": "7d56d5ff-82e7-47a6-8a9b-ea988596aaf1",
   "metadata": {},
   "outputs": [
    {
     "name": "stdout",
     "output_type": "stream",
     "text": [
      "The sql extension is already loaded. To reload it, use:\n",
      "  %reload_ext sql\n"
     ]
    }
   ],
   "source": [
    "%load_ext sql\n",
    "%config SqlMagic.style = '_DEPRECATED_DEFAULT'"
   ]
  },
  {
   "cell_type": "code",
   "execution_count": 8,
   "id": "32e43176-230a-40ee-8d51-8d798d05d1f6",
   "metadata": {},
   "outputs": [],
   "source": [
    "%sql sqlite:///my_database.db"
   ]
  },
  {
   "cell_type": "markdown",
   "id": "07315b01-0f01-4a7c-976a-03572eda6498",
   "metadata": {},
   "source": [
    "*Creating the tables*"
   ]
  },
  {
   "cell_type": "code",
   "execution_count": 9,
   "id": "de50b003-1cdb-48d7-b128-c428b6d9739b",
   "metadata": {},
   "outputs": [
    {
     "name": "stdout",
     "output_type": "stream",
     "text": [
      " * sqlite:///my_database.db\n",
      "Done.\n",
      "Done.\n",
      "5 rows affected.\n",
      "13 rows affected.\n"
     ]
    },
    {
     "data": {
      "text/plain": [
       "[]"
      ]
     },
     "execution_count": 9,
     "metadata": {},
     "output_type": "execute_result"
    }
   ],
   "source": [
    "%%sql\n",
    "\n",
    "CREATE TABLE departments (\n",
    "    id INTEGER PRIMARY KEY,\n",
    "    name TEXT NOT NULL,\n",
    "    location TEXT\n",
    ");\n",
    "\n",
    "CREATE TABLE employees (\n",
    "    id INTEGER PRIMARY KEY,\n",
    "    first_name TEXT NOT NULL,\n",
    "    last_name TEXT NOT NULL,\n",
    "    department_id INTEGER,\n",
    "    hire_date TEXT,  -- SQLite does not have type DATE\n",
    "    salary REAL,\n",
    "    bonus REAL,\n",
    "    job_title TEXT,\n",
    "    manager_id INTEGER,\n",
    "    performance_rating INTEGER,\n",
    "    email TEXT,\n",
    "    phone_number TEXT,\n",
    "    FOREIGN KEY (department_id) REFERENCES departments(id),\n",
    "    FOREIGN KEY (manager_id) REFERENCES employees(id) -- self-referencing foreign key: every manager is also an employees, therefore manager_id is the manager's employee id.\n",
    ");\n",
    "\n",
    "INSERT INTO departments (id, name, location) VALUES\n",
    "(1, 'Engineering', 'New York'),\n",
    "(2, 'Sales', 'Los Angeles'),\n",
    "(3, 'HR', 'Chicago'),\n",
    "(4, 'Marketing', 'San Francisco'),\n",
    "(5, 'Finance', 'Boston');\n",
    "\n",
    "INSERT INTO employees (id, first_name, last_name, department_id, hire_date, salary, bonus, job_title, manager_id, performance_rating, email, phone_number) VALUES\n",
    "(1, 'Alice', 'Smith',       1, '2010-06-01', 120000, 10000, 'CTO',                   NULL, 5, 'alice.smith@example.com', '555-0100'),\n",
    "(2, 'Bob', 'Johnson',       1, '2012-09-15',  90000,  5000, 'Senior Engineer',       1, 4, 'bob.johnson@example.com', '555-0101'),\n",
    "(3, 'Carol', 'Williams',    1, '2015-03-20',  80000,   NULL, 'Engineer',              2, 3, 'carol.williams@example.com', '555-0102'),\n",
    "(4, 'David', 'Jones',       2, '2011-11-11',  95000,  7000, 'Sales Manager',         NULL, 4, 'david.jones@example.com', '555-0103'),\n",
    "(5, 'Eva', 'Brown',         2, '2016-05-22',  70000,  3000, 'Sales Representative',  4, 3, 'eva.brown@example.com', '555-0104'),\n",
    "(6, 'Frank', 'Davis',       2, '2018-07-01',  68000,   NULL, 'Sales Representative',  4, 2, 'frank.davis@example.com', '555-0105'),\n",
    "(7, 'Grace', 'Miller',      3, '2013-02-28',  75000,  4000, 'HR Specialist',         NULL, 4, 'grace.miller@example.com', '555-0106'),\n",
    "(8, 'Henry', 'Wilson',      3, '2019-10-10',  60000,  2000, 'HR Assistant',           7, 3, 'henry.wilson@example.com', '555-0107'),\n",
    "(9, 'Ivy', 'Moore',         4, '2014-08-19',  85000,  5000, 'Marketing Manager',     NULL, 4, 'ivy.moore@example.com', '555-0108'),\n",
    "(10, 'Sam', 'White',        NULL, '2023-01-01', 50000, NULL, 'Intern',                3, NULL, NULL, NULL),\n",
    "(11, 'Jack', 'Taylor',      4, '2020-01-15',  65000,   NULL, 'Marketing Specialist',   9, 3, 'jack.taylor@example.com', '555-0109'),\n",
    "(12, 'Kathy', 'Anderson',   5, '2017-04-03',  78000,  4500, 'Finance Analyst',       NULL, 4, 'kathy.anderson@example.com', '555-0110'),\n",
    "(13, 'Leo', 'Thomas',       5, '2021-12-05',  55000,   NULL, 'Junior Finance Analyst',11, 3, 'leo.thomas@example.com', '555-0111');"
   ]
  },
  {
   "cell_type": "markdown",
   "id": "30961c95-e667-46a9-8392-5f1995d2ded5",
   "metadata": {},
   "source": [
    "## 1."
   ]
  },
  {
   "cell_type": "markdown",
   "id": "0f769c48-5e2d-4e13-a063-8954d8e38da5",
   "metadata": {},
   "source": [
    "Write a query to find first name and last name of employees whose first name: has 3 letters; ends in 'a'."
   ]
  },
  {
   "cell_type": "code",
   "execution_count": 10,
   "id": "7d0a3fc7-e7a3-4438-9c89-545cc2f87e5c",
   "metadata": {},
   "outputs": [
    {
     "name": "stdout",
     "output_type": "stream",
     "text": [
      " * sqlite:///my_database.db\n",
      "Done.\n"
     ]
    },
    {
     "data": {
      "text/html": [
       "<table>\n",
       "    <thead>\n",
       "        <tr>\n",
       "            <th>first_name</th>\n",
       "            <th>last_name</th>\n",
       "        </tr>\n",
       "    </thead>\n",
       "    <tbody>\n",
       "        <tr>\n",
       "            <td>Eva</td>\n",
       "            <td>Brown</td>\n",
       "        </tr>\n",
       "    </tbody>\n",
       "</table>"
      ],
      "text/plain": [
       "[('Eva', 'Brown')]"
      ]
     },
     "execution_count": 10,
     "metadata": {},
     "output_type": "execute_result"
    }
   ],
   "source": [
    "%%sql\n",
    "SELECT first_name, last_name\n",
    "FROM employees\n",
    "WHERE LENGTH(first_name) = 3\n",
    "AND first_name LIKE '__a';"
   ]
  },
  {
   "cell_type": "markdown",
   "id": "d6b603ad-1846-4281-9709-d538bee0a36b",
   "metadata": {},
   "source": [
    "## 2."
   ]
  },
  {
   "cell_type": "markdown",
   "id": "3d16bd10-3aee-4a92-909b-144fbdc77aad",
   "metadata": {},
   "source": [
    "Write a query to find, for each department: the name of the department; the number of employees; the number of employees who received a bonus; the total amount of bonuses disbursed."
   ]
  },
  {
   "cell_type": "code",
   "execution_count": 17,
   "id": "62215bf6-1b78-4def-97d0-903ebad599f7",
   "metadata": {},
   "outputs": [
    {
     "name": "stdout",
     "output_type": "stream",
     "text": [
      " * sqlite:///my_database.db\n",
      "Done.\n"
     ]
    },
    {
     "data": {
      "text/html": [
       "<table>\n",
       "    <thead>\n",
       "        <tr>\n",
       "            <th>department_name</th>\n",
       "            <th>total_employees</th>\n",
       "            <th>employees_with_bonus</th>\n",
       "            <th>total_bonus_disbursed</th>\n",
       "        </tr>\n",
       "    </thead>\n",
       "    <tbody>\n",
       "        <tr>\n",
       "            <td>Engineering</td>\n",
       "            <td>3</td>\n",
       "            <td>2</td>\n",
       "            <td>15000.0</td>\n",
       "        </tr>\n",
       "        <tr>\n",
       "            <td>Finance</td>\n",
       "            <td>2</td>\n",
       "            <td>1</td>\n",
       "            <td>4500.0</td>\n",
       "        </tr>\n",
       "        <tr>\n",
       "            <td>HR</td>\n",
       "            <td>2</td>\n",
       "            <td>2</td>\n",
       "            <td>6000.0</td>\n",
       "        </tr>\n",
       "        <tr>\n",
       "            <td>Marketing</td>\n",
       "            <td>2</td>\n",
       "            <td>1</td>\n",
       "            <td>5000.0</td>\n",
       "        </tr>\n",
       "        <tr>\n",
       "            <td>Sales</td>\n",
       "            <td>3</td>\n",
       "            <td>2</td>\n",
       "            <td>10000.0</td>\n",
       "        </tr>\n",
       "    </tbody>\n",
       "</table>"
      ],
      "text/plain": [
       "[('Engineering', 3, 2, 15000.0),\n",
       " ('Finance', 2, 1, 4500.0),\n",
       " ('HR', 2, 2, 6000.0),\n",
       " ('Marketing', 2, 1, 5000.0),\n",
       " ('Sales', 3, 2, 10000.0)]"
      ]
     },
     "execution_count": 17,
     "metadata": {},
     "output_type": "execute_result"
    }
   ],
   "source": [
    "%%sql \n",
    "SELECT d.name AS department_name, \n",
    "       COUNT(e.id) AS total_employees,\n",
    "       COUNT(e.bonus) AS employees_with_bonus,\n",
    "       COALESCE(SUM(e.bonus), 0) AS total_bonus_disbursed\n",
    "FROM departments d\n",
    "LEFT JOIN employees e ON d.id = e.department_id\n",
    "GROUP BY d.name"
   ]
  },
  {
   "cell_type": "markdown",
   "id": "e17c1011-39e8-436a-beb2-b163159cfe40",
   "metadata": {},
   "source": [
    "## 3."
   ]
  },
  {
   "cell_type": "markdown",
   "id": "a79ca1aa-0ba1-440d-8575-168f5b7c210a",
   "metadata": {},
   "source": [
    "Write a query to find employees who received the same bonus as at least one other employee."
   ]
  },
  {
   "cell_type": "code",
   "execution_count": 18,
   "id": "96cf28e9-cd4a-468b-a1df-d60c1285c4bb",
   "metadata": {},
   "outputs": [
    {
     "name": "stdout",
     "output_type": "stream",
     "text": [
      " * sqlite:///my_database.db\n",
      "Done.\n"
     ]
    },
    {
     "data": {
      "text/html": [
       "<table>\n",
       "    <thead>\n",
       "        <tr>\n",
       "            <th>id</th>\n",
       "            <th>first_name</th>\n",
       "            <th>last_name</th>\n",
       "            <th>bonus</th>\n",
       "        </tr>\n",
       "    </thead>\n",
       "    <tbody>\n",
       "        <tr>\n",
       "            <td>2</td>\n",
       "            <td>Bob</td>\n",
       "            <td>Johnson</td>\n",
       "            <td>5000.0</td>\n",
       "        </tr>\n",
       "        <tr>\n",
       "            <td>9</td>\n",
       "            <td>Ivy</td>\n",
       "            <td>Moore</td>\n",
       "            <td>5000.0</td>\n",
       "        </tr>\n",
       "    </tbody>\n",
       "</table>"
      ],
      "text/plain": [
       "[(2, 'Bob', 'Johnson', 5000.0), (9, 'Ivy', 'Moore', 5000.0)]"
      ]
     },
     "execution_count": 18,
     "metadata": {},
     "output_type": "execute_result"
    }
   ],
   "source": [
    "%%sql\n",
    "SELECT e1.id, e1.first_name, e1.last_name, e1.bonus\n",
    "FROM employees e1\n",
    "JOIN employees e2 ON e1.bonus = e2.bonus \n",
    "                  AND e1.id <> e2.id\n",
    "WHERE e1.bonus IS NOT NULL"
   ]
  },
  {
   "cell_type": "code",
   "execution_count": null,
   "id": "cb5d8b27-0059-4037-8eea-199a7a1f950b",
   "metadata": {},
   "outputs": [],
   "source": []
  }
 ],
 "metadata": {
  "kernelspec": {
   "display_name": "Python 3 (ipykernel)",
   "language": "python",
   "name": "python3"
  },
  "language_info": {
   "codemirror_mode": {
    "name": "ipython",
    "version": 3
   },
   "file_extension": ".py",
   "mimetype": "text/x-python",
   "name": "python",
   "nbconvert_exporter": "python",
   "pygments_lexer": "ipython3",
   "version": "3.13.1"
  }
 },
 "nbformat": 4,
 "nbformat_minor": 5
}
