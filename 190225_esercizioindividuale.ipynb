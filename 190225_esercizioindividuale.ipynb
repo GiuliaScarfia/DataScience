{
 "cells": [
  {
   "cell_type": "markdown",
   "id": "aa5b5af3-567b-47a3-8367-be3a40179b43",
   "metadata": {},
   "source": [
    "### Esercizio per mercoledì 19"
   ]
  },
  {
   "cell_type": "markdown",
   "id": "52141b2a-75e4-4700-ad3b-9a2559b23ee4",
   "metadata": {},
   "source": [
    "1. Create a dataframe of at least 1000 rows about an hypothetical list of employees of your company, extract all employees in the IT department and a Salary greater than 55000.\n",
    "2. Create a column to split the data in Low, Medium, High fare prices and calculate the average Age per each section. Fill the Age set to nan and calculate the average age again, how did it change? How can you fill the age so that the average does not change?"
   ]
  },
  {
   "cell_type": "markdown",
   "id": "27c6ac09-81a5-49d3-90a7-717459aeab05",
   "metadata": {},
   "source": [
    "### 1."
   ]
  },
  {
   "cell_type": "markdown",
   "id": "956effc9-0973-4ab9-86f2-96ed3fc33cc5",
   "metadata": {},
   "source": [
    "*Importare le librerie*"
   ]
  },
  {
   "cell_type": "code",
   "execution_count": 17,
   "id": "8057bd76-d385-40b6-8eed-678408e02b52",
   "metadata": {},
   "outputs": [],
   "source": [
    "import pandas as pd\n",
    "import numpy as np"
   ]
  },
  {
   "cell_type": "markdown",
   "id": "acfefaa8-edfa-4280-bedb-90b003eb2fe3",
   "metadata": {},
   "source": [
    "*Creazione del DataFrame con dati ipotetici*"
   ]
  },
  {
   "cell_type": "code",
   "execution_count": 18,
   "id": "a0c9149e-2826-44fd-93f3-85c725b57c3b",
   "metadata": {},
   "outputs": [],
   "source": [
    "np.random.seed(42)\n",
    "n_rows = 1000\n",
    "\n",
    "departments = ['IT', 'HR', 'Finance', 'Marketing', 'Sales']\n",
    "df = pd.DataFrame({\n",
    "    'Employee_ID': range(1, n_rows + 1),\n",
    "    'Name': [f'Employee_{i}' for i in range(1, n_rows + 1)],\n",
    "    'Department': np.random.choice(departments, n_rows),\n",
    "    'Salary': np.random.randint(30000, 90000, n_rows),\n",
    "    'Age': np.random.randint(22, 65, n_rows),\n",
    "    'Fare': np.random.uniform(10, 500, n_rows)\n",
    "})"
   ]
  },
  {
   "cell_type": "markdown",
   "id": "f28943fa-453d-4a31-b7b9-b861ce4b120c",
   "metadata": {},
   "source": [
    "💡 Quando usare np.random.seed()?\n",
    "\n",
    "Quando vuoi risultati riproducibili (utile per debugging o condivisione di codice).\n",
    "Nei modelli di Machine Learning, per avere dataset randomizzati ma coerenti tra le esecuzioni.\n",
    "Quando scrivi test automatizzati, così il comportamento non cambia ad ogni esecuzione."
   ]
  },
  {
   "cell_type": "code",
   "execution_count": 19,
   "id": "4a91a5a1-9294-4a25-a02c-968b1c2b0a40",
   "metadata": {},
   "outputs": [
    {
     "name": "stdout",
     "output_type": "stream",
     "text": [
      "<class 'pandas.core.frame.DataFrame'>\n",
      "RangeIndex: 1000 entries, 0 to 999\n",
      "Data columns (total 6 columns):\n",
      " #   Column       Non-Null Count  Dtype  \n",
      "---  ------       --------------  -----  \n",
      " 0   Employee_ID  1000 non-null   int64  \n",
      " 1   Name         1000 non-null   object \n",
      " 2   Department   1000 non-null   object \n",
      " 3   Salary       1000 non-null   int32  \n",
      " 4   Age          1000 non-null   int32  \n",
      " 5   Fare         1000 non-null   float64\n",
      "dtypes: float64(1), int32(2), int64(1), object(2)\n",
      "memory usage: 39.2+ KB\n"
     ]
    }
   ],
   "source": [
    "df.info()"
   ]
  },
  {
   "cell_type": "code",
   "execution_count": 20,
   "id": "5d53a287-25ed-4035-9ef0-59b5f2ea6eae",
   "metadata": {},
   "outputs": [
    {
     "data": {
      "text/plain": [
       "(1000, 6)"
      ]
     },
     "execution_count": 20,
     "metadata": {},
     "output_type": "execute_result"
    }
   ],
   "source": [
    "df.shape"
   ]
  },
  {
   "cell_type": "code",
   "execution_count": 21,
   "id": "30d777a4-4a1e-4f55-a9dd-c71f7e3a5f34",
   "metadata": {},
   "outputs": [
    {
     "name": "stdout",
     "output_type": "stream",
     "text": [
      "<bound method NDFrame.head of      Employee_ID           Name Department  Salary  Age        Fare\n",
      "0              1     Employee_1  Marketing   49915   53  192.247007\n",
      "1              2     Employee_2      Sales   69915   62  231.331441\n",
      "2              3     Employee_3    Finance   67219   57  204.716881\n",
      "3              4     Employee_4      Sales   45343   55   55.769906\n",
      "4              5     Employee_5      Sales   76403   57  226.125358\n",
      "..           ...            ...        ...     ...  ...         ...\n",
      "995          996   Employee_996         HR   55963   29   13.274243\n",
      "996          997   Employee_997         IT   66221   54  388.427497\n",
      "997          998   Employee_998         IT   69443   63  316.350337\n",
      "998          999   Employee_999  Marketing   63723   56  193.041853\n",
      "999         1000  Employee_1000    Finance   69063   27   34.739583\n",
      "\n",
      "[1000 rows x 6 columns]>\n"
     ]
    }
   ],
   "source": [
    "print(df.head)"
   ]
  },
  {
   "cell_type": "markdown",
   "id": "8f33f4dd-da26-411a-a228-682a5cb03bc0",
   "metadata": {},
   "source": [
    "*Filtrare gli impiegati nel dipartimento IT con salario > 55000*"
   ]
  },
  {
   "cell_type": "code",
   "execution_count": 22,
   "id": "bbe4052e-74c4-4523-8bda-8e3d32257ef8",
   "metadata": {},
   "outputs": [
    {
     "name": "stdout",
     "output_type": "stream",
     "text": [
      "<bound method NDFrame.head of      Employee_ID          Name Department  Salary  Age        Fare\n",
      "24            25   Employee_25         IT   66244   44  303.075188\n",
      "33            34   Employee_34         IT   83173   35   67.645554\n",
      "41            42   Employee_42         IT   61880   46  498.568297\n",
      "45            46   Employee_46         IT   66980   58  346.561889\n",
      "70            71   Employee_71         IT   75765   22  453.626338\n",
      "..           ...           ...        ...     ...  ...         ...\n",
      "939          940  Employee_940         IT   59545   28  196.906110\n",
      "954          955  Employee_955         IT   82579   55   60.529468\n",
      "966          967  Employee_967         IT   69825   43  319.043231\n",
      "996          997  Employee_997         IT   66221   54  388.427497\n",
      "997          998  Employee_998         IT   69443   63  316.350337\n",
      "\n",
      "[126 rows x 6 columns]>\n"
     ]
    }
   ],
   "source": [
    "filtered_df = df[(df['Department'] == 'IT') & (df['Salary'] > 55000)]\n",
    "print(filtered_df.head)"
   ]
  },
  {
   "cell_type": "markdown",
   "id": "feaf64c5-4832-493f-8627-f8c0449bb095",
   "metadata": {},
   "source": [
    "### 2."
   ]
  },
  {
   "cell_type": "markdown",
   "id": "e4ffde8d-b9c4-4061-a572-300c5c4ff096",
   "metadata": {},
   "source": [
    "*Creazione della colonna Fare_Category*"
   ]
  },
  {
   "cell_type": "code",
   "execution_count": 23,
   "id": "08bae802-a707-4037-9752-888fc8699f04",
   "metadata": {},
   "outputs": [],
   "source": [
    "def categorize_fare(fare):\n",
    "    if fare < 100:\n",
    "        return 'Low'\n",
    "    elif fare < 300:\n",
    "        return 'Medium'\n",
    "    else:\n",
    "        return 'High'\n",
    "\n",
    "df['Fare_Category'] = df['Fare'].apply(categorize_fare)"
   ]
  },
  {
   "cell_type": "markdown",
   "id": "22b9591a-e725-4ff4-9452-d5937dc828d7",
   "metadata": {},
   "source": [
    "*Calcolo della media dell'età per categoria di prezzo*"
   ]
  },
  {
   "cell_type": "code",
   "execution_count": 24,
   "id": "5ad352b2-3825-46b0-9c6c-b6cd953c6ef5",
   "metadata": {},
   "outputs": [
    {
     "name": "stdout",
     "output_type": "stream",
     "text": [
      "\n",
      "Media dell'età per categoria di prezzo:\n",
      " Fare_Category\n",
      "High      43.002404\n",
      "Low       43.042105\n",
      "Medium    42.563452\n",
      "Name: Age, dtype: float64\n"
     ]
    }
   ],
   "source": [
    "average_age_per_category = df.groupby('Fare_Category')['Age'].mean()\n",
    "print(\"\\nMedia dell'età per categoria di prezzo:\\n\", average_age_per_category)"
   ]
  },
  {
   "cell_type": "markdown",
   "id": "5392ba23-5ec8-4bd4-a5f6-08c38b2da7a1",
   "metadata": {},
   "source": [
    "*Inserimento di valori NaN casualmente nell'età*"
   ]
  },
  {
   "cell_type": "code",
   "execution_count": 25,
   "id": "ebd27925-701a-4348-9fb9-a3bfb3da2dfa",
   "metadata": {},
   "outputs": [],
   "source": [
    "df.loc[np.random.choice(df.index, size=100, replace=False), 'Age'] = np.nan\n"
   ]
  },
  {
   "cell_type": "markdown",
   "id": "49fbea2e-8b77-4fd5-a75c-e2b7a8cd6a31",
   "metadata": {},
   "source": [
    "*Calcolo della media dell'età dopo l'introduzione di NaN*"
   ]
  },
  {
   "cell_type": "code",
   "execution_count": 26,
   "id": "7decba76-231a-471c-b6e4-5ba0c5a9de89",
   "metadata": {},
   "outputs": [
    {
     "name": "stdout",
     "output_type": "stream",
     "text": [
      "\n",
      "Media dell'età dopo i NaN:\n",
      " Fare_Category\n",
      "High      42.840000\n",
      "Low       42.732558\n",
      "Medium    42.320113\n",
      "Name: Age, dtype: float64\n"
     ]
    }
   ],
   "source": [
    "average_age_with_nan = df.groupby('Fare_Category')['Age'].mean()\n",
    "print(\"\\nMedia dell'età dopo i NaN:\\n\", average_age_with_nan)"
   ]
  },
  {
   "cell_type": "markdown",
   "id": "5848587b-2403-49c2-84e6-66c82561ef1e",
   "metadata": {},
   "source": [
    "*Riempire i NaN con la media pre-esistente per non alterare il valore medio*"
   ]
  },
  {
   "cell_type": "code",
   "execution_count": 31,
   "id": "366828fc-4137-4a09-9cc8-02c246e6a74e",
   "metadata": {},
   "outputs": [
    {
     "name": "stdout",
     "output_type": "stream",
     "text": [
      "  Fare_Category        Age\n",
      "0        Medium  53.000000\n",
      "1        Medium  62.000000\n",
      "2        Medium  57.000000\n",
      "3           Low  55.000000\n",
      "4        Medium  42.320113\n",
      "5        Medium  23.000000\n",
      "6        Medium  36.000000\n",
      "7           Low  55.000000\n",
      "8        Medium  57.000000\n",
      "9          High  42.840000\n"
     ]
    }
   ],
   "source": [
    "df['Age'] = df.groupby('Fare_Category')['Age'].transform(lambda x: x.fillna(x.mean()))\n",
    "print(df[['Fare_Category', 'Age']].head(10))"
   ]
  },
  {
   "cell_type": "markdown",
   "id": "061519ef-256a-4488-9400-9966ee2e3375",
   "metadata": {},
   "source": [
    "*Ricalcolo della media per verificare che sia invariata*"
   ]
  },
  {
   "cell_type": "code",
   "execution_count": 32,
   "id": "f37dd549-3513-4ca3-a1cf-94e9d7cf92bb",
   "metadata": {},
   "outputs": [
    {
     "name": "stdout",
     "output_type": "stream",
     "text": [
      "\n",
      "Media dell'età dopo il riempimento dei NaN:\n",
      " Fare_Category\n",
      "High      42.840000\n",
      "Low       42.732558\n",
      "Medium    42.320113\n",
      "Name: Age, dtype: float64\n"
     ]
    }
   ],
   "source": [
    "final_average_age = df.groupby('Fare_Category')['Age'].mean()\n",
    "print(\"\\nMedia dell'età dopo il riempimento dei NaN:\\n\", final_average_age)"
   ]
  },
  {
   "cell_type": "markdown",
   "id": "5c0dc1ef-4122-4372-ab67-b84223cf07cc",
   "metadata": {},
   "source": [
    "### Risultati e osservazioni\n",
    "Filtraggio degli impiegati IT con salario > 55000 → Estrae solo i dipendenti del settore IT che guadagnano più di 55000.\n",
    "Creazione della categoria di prezzi (Fare_Category) → Divide i valori in Low, Medium, High.\n",
    "Calcolo della media dell'età per categoria → Età media per Low, Medium e High.\n",
    "Inserimento di NaN → La media dell'età cambia.\n",
    "Riempimento dei NaN con la media originale → La media torna al valore originale, evitando distorsioni."
   ]
  },
  {
   "cell_type": "code",
   "execution_count": null,
   "id": "db6d3369-c1b4-4922-98be-67395bd70900",
   "metadata": {},
   "outputs": [],
   "source": []
  }
 ],
 "metadata": {
  "kernelspec": {
   "display_name": "Python 3 (ipykernel)",
   "language": "python",
   "name": "python3"
  },
  "language_info": {
   "codemirror_mode": {
    "name": "ipython",
    "version": 3
   },
   "file_extension": ".py",
   "mimetype": "text/x-python",
   "name": "python",
   "nbconvert_exporter": "python",
   "pygments_lexer": "ipython3",
   "version": "3.13.1"
  }
 },
 "nbformat": 4,
 "nbformat_minor": 5
}
