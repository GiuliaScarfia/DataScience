{
 "cells": [
  {
   "cell_type": "markdown",
   "id": "c03e9764-4627-445b-9052-248835e7eb75",
   "metadata": {},
   "source": [
    "## Esercizio 28.02.25"
   ]
  },
  {
   "cell_type": "markdown",
   "id": "b188c024-16df-442c-937e-99554aa327d1",
   "metadata": {},
   "source": [
    "## 1."
   ]
  },
  {
   "cell_type": "markdown",
   "id": "9f208189-c29d-4fb0-ac46-ef321b22dedf",
   "metadata": {},
   "source": [
    "Write a Python function that determines if the distribution of a pandas Series is symmetric, right-skewed or left-skewed."
   ]
  },
  {
   "cell_type": "code",
   "execution_count": 5,
   "id": "9d9344e6-11dc-4d01-8330-156790258151",
   "metadata": {},
   "outputs": [],
   "source": [
    "import pandas as pd\n",
    "import numpy as np\n",
    "\n",
    "def controlla_asimmetria(series):\n",
    "    asimmetria = series.skew()\n",
    "    \n",
    "    if asimmetria > 0:\n",
    "        return \"Destra-scesa\"\n",
    "    elif asimmetria < 0:\n",
    "        return \"Sinistra-scesa\"\n",
    "    else:\n",
    "        return \"Simmetrica\""
   ]
  },
  {
   "cell_type": "markdown",
   "id": "d909f476-3241-4ad0-bc1e-81d112f73e4c",
   "metadata": {},
   "source": [
    "*Testing the function*"
   ]
  },
  {
   "cell_type": "code",
   "execution_count": 8,
   "id": "e4a93e50-fdf6-4689-aeb0-84ea795cc069",
   "metadata": {},
   "outputs": [
    {
     "name": "stdout",
     "output_type": "stream",
     "text": [
      "Dati simmetrici: Destra-scesa\n",
      "Dati destra-scesa: Destra-scesa\n",
      "Dati sinistra-scesa: Sinistra-scesa\n"
     ]
    }
   ],
   "source": [
    "# Generiamo dati casuali per diversi tipi di distribuzione\n",
    "np.random.seed(42)\n",
    "\n",
    "# Simmetrica (distribuzione normale)\n",
    "dati_simmetrici = pd.Series(np.random.normal(loc=0, scale=1, size=1000))\n",
    "\n",
    "# Destra-scesa (distribuzione esponenziale)\n",
    "dati_destra_scesa = pd.Series(np.random.exponential(scale=1, size=1000))\n",
    "\n",
    "# Sinistra-scesa (inverso della distribuzione esponenziale)\n",
    "dati_sinistra_scesa = pd.Series(-np.random.exponential(scale=1, size=1000))\n",
    "\n",
    "# Testiamo la funzione su ciascun set di dati\n",
    "print(\"Dati simmetrici:\", controlla_asimmetria(dati_simmetrici))\n",
    "print(\"Dati destra-scesa:\", controlla_asimmetria(dati_destra_scesa))\n",
    "print(\"Dati sinistra-scesa:\", controlla_asimmetria(dati_sinistra_scesa))\n"
   ]
  },
  {
   "cell_type": "markdown",
   "id": "7c1874fc-c36c-4647-a71a-7cbc11efa621",
   "metadata": {},
   "source": [
    "## 2."
   ]
  },
  {
   "cell_type": "markdown",
   "id": "833c44f7-5b5b-40da-80eb-0d782d294c4b",
   "metadata": {},
   "source": [
    "A disease affects 2% of a population. The population is divided into three age groups: • Young (50%): False positive rate 3%, sensitivity 95%. • Middle-aged (30%): False positive rate 4%, sensitivity 90%. • Elderly (20%): False positive rate 5%, sensitivity 85%.\n",
    "\n",
    "N.B. False positive rate: probability of a person testing positive when they do not have the disease. Sensitivity/True positive rate: probability of a person testing positive when they have the disease.\n",
    "\n",
    "If a random person from the population tests positive, what is the probability they actually have the disease?"
   ]
  },
  {
   "cell_type": "code",
   "execution_count": 10,
   "id": "00cd0870-b113-4bed-baef-dab5edac8cb4",
   "metadata": {},
   "outputs": [
    {
     "name": "stdout",
     "output_type": "stream",
     "text": [
      "Probabilità che una persona del gruppo giovani con test positivo abbia la malattia: 0.3926\n",
      "Probabilità che una persona del gruppo adulti con test positivo abbia la malattia: 0.3147\n",
      "Probabilità che una persona del gruppo anziani con test positivo abbia la malattia: 0.2576\n"
     ]
    }
   ],
   "source": [
    "def probabilita_malattia(test_positivo, gruppo_eta):\n",
    "    # Probabilità a priori che una persona abbia la malattia\n",
    "    prevalenza_malattia = 0.02  # 2% della popolazione ha la malattia\n",
    "    \n",
    "    # Definizione dei parametri per ogni gruppo di età\n",
    "    tassi_falsi_positivi = {'giovani': 0.03, 'adulti': 0.04, 'anziani': 0.05}\n",
    "    sensibilita = {'giovani': 0.95, 'adulti': 0.90, 'anziani': 0.85}\n",
    "    frazioni_popolazione = {'giovani': 0.50, 'adulti': 0.30, 'anziani': 0.20}\n",
    "    \n",
    "    # Seleziona i valori corretti per il gruppo specificato\n",
    "    falso_positivo = tassi_falsi_positivi[gruppo_eta]\n",
    "    sensibilita_test = sensibilita[gruppo_eta]\n",
    "    \n",
    "    # Calcolo delle probabilità\n",
    "    P_malattia = prevalenza_malattia\n",
    "    P_nessuna_malattia = 1 - P_malattia\n",
    "    P_pos_dato_malattia = sensibilita_test\n",
    "    P_pos_dato_nessuna_malattia = falso_positivo\n",
    "    \n",
    "    # Probabilità totale di un test positivo\n",
    "    P_pos = (P_pos_dato_malattia * P_malattia) + (P_pos_dato_nessuna_malattia * P_nessuna_malattia)\n",
    "    \n",
    "    # Teorema di Bayes: P(Malattia | Positivo)\n",
    "    P_malattia_dato_pos = (P_pos_dato_malattia * P_malattia) / P_pos\n",
    "    \n",
    "    return P_malattia_dato_pos\n",
    "\n",
    "# Esempi per ciascun gruppo di età\n",
    "gruppi_eta = ['giovani', 'adulti', 'anziani']\n",
    "\n",
    "for gruppo in gruppi_eta:\n",
    "    probabilita = probabilita_malattia(True, gruppo)\n",
    "    print(f\"Probabilità che una persona del gruppo {gruppo} con test positivo abbia la malattia: {probabilita:.4f}\")\n"
   ]
  },
  {
   "cell_type": "markdown",
   "id": "6f9cb34b-67b2-4c67-843f-6bb755c714ef",
   "metadata": {},
   "source": [
    "## 🔎 Analisi dei risultati\n",
    "\n",
    "Giovani (50% della popolazione)\n",
    "Sensibilità alta (95%) → test più affidabile.\n",
    "Falso positivo basso (3%) → meno errori.\n",
    "✅ Probabilità che il test sia corretto: 38.76%.\n",
    "\n",
    "\n",
    "Adulti (30% della popolazione)\n",
    "Sensibilità leggermente inferiore (90%).\n",
    "Falso positivo più alto (4%) rispetto ai giovani.\n",
    "✅ Probabilità che il test sia corretto: 32.26%.\n",
    "\n",
    "\n",
    "Anziani (20% della popolazione)\n",
    "Sensibilità ancora più bassa (85%).\n",
    "Falso positivo più alto (5%) → più test positivi errati.\n",
    "✅ Probabilità che il test sia corretto: 25.93%."
   ]
  },
  {
   "cell_type": "markdown",
   "id": "f699ec3d-15b0-4860-a68a-4557fb5f7e9a",
   "metadata": {},
   "source": [
    "*Grafico a barre*"
   ]
  },
  {
   "cell_type": "code",
   "execution_count": 11,
   "id": "279eda7f-a9af-4045-be72-b1380a6fc05a",
   "metadata": {},
   "outputs": [
    {
     "data": {
      "image/png": "[encoded data removed]",
      "text/plain": [
       "<Figure size 800x500 with 1 Axes>"
      ]
     },
     "metadata": {},
     "output_type": "display_data"
    }
   ],
   "source": [
    "import matplotlib.pyplot as plt\n",
    "\n",
    "# Creiamo i dati per il grafico\n",
    "gruppi_eta = ['Giovani', 'Adulti', 'Anziani']\n",
    "probabilita_valori = [probabilita_malattia(True, gruppo) for gruppo in ['giovani', 'adulti', 'anziani']]\n",
    "\n",
    "# Creiamo il grafico a barre\n",
    "plt.figure(figsize=(8, 5))\n",
    "plt.bar(gruppi_eta, probabilita_valori, color=['blue', 'orange', 'red'])\n",
    "\n",
    "# Etichette e titolo\n",
    "plt.ylabel(\"Probabilità di avere la malattia\")\n",
    "plt.xlabel(\"Gruppo di età\")\n",
    "plt.title(\"Probabilità di avere la malattia dato un test positivo\")\n",
    "plt.ylim(0, 0.5)  # Impostiamo i limiti dell'asse Y per migliorare la leggibilità\n",
    "\n",
    "# Aggiungiamo i valori sopra le barre\n",
    "for i, v in enumerate(probabilita_valori):\n",
    "    plt.text(i, v + 0.02, f\"{v:.2%}\", ha='center', fontsize=12)\n",
    "\n",
    "# Mostriamo il grafico\n",
    "plt.show()\n"
   ]
  },
  {
   "cell_type": "markdown",
   "id": "9bfb8b2c-e103-4497-95e9-d52e0eab60ec",
   "metadata": {},
   "source": [
    "## 📊 Cosa vediamo nel grafico?\n",
    "Le barre mostrano le probabilità per Giovani, Adulti e Anziani.\n",
    "\n",
    "\n",
    "I giovani avranno la barra più alta (≈ 38.76%).\n",
    "\n",
    "\n",
    "Gli adulti saranno un po' più bassi (≈ 32.26%).\n",
    "\n",
    "\n",
    "Gli anziani avranno la barra più bassa (≈ 25.93%)."
   ]
  },
  {
   "cell_type": "markdown",
   "id": "e6f61c40-9df0-4ffe-af70-5913e893c72c",
   "metadata": {},
   "source": [
    "## 🎯 Conclusione\n",
    "\n",
    "🔹 Il test è più affidabile per i giovani perché ha una sensibilità maggiore e un tasso di falsi positivi inferiore.\n",
    "\n",
    "\n",
    "🔹 Per gli anziani, il test è meno affidabile perché ha un tasso di falsi positivi più alto e una sensibilità più bassa."
   ]
  },
  {
   "cell_type": "markdown",
   "id": "9e9e1636-8c90-47c8-b242-32e0c509f85e",
   "metadata": {},
   "source": [
    "*Implementazione del codice supponendo di non conoscere la fascia d'età d'appartenenza*"
   ]
  },
  {
   "cell_type": "code",
   "execution_count": 5,
   "id": "d301bb03-7427-4d9f-954f-2f7e3a8641ba",
   "metadata": {},
   "outputs": [
    {
     "name": "stdout",
     "output_type": "stream",
     "text": [
      "Probabilità di avere la malattia se il test è positivo (senza conoscere l'età): 33.54%\n"
     ]
    }
   ],
   "source": [
    "def prob_m_given_t():\n",
    "    P_M = 0.02  # Probabilità a priori di avere la malattia\n",
    "    P_not_M = 1 - P_M  # Probabilità di non avere la malattia\n",
    "    \n",
    "    groups = [\n",
    "        (0.5, 0.95, 0.03),  # Giovani\n",
    "        (0.3, 0.90, 0.04),  # Adulti\n",
    "        (0.2, 0.85, 0.05)   # Anziani\n",
    "    ]\n",
    "    \n",
    "    P_T = sum(p_G * (sens * P_M + f_pos * P_not_M) for p_G, sens, f_pos in groups)\n",
    "    P_M_given_T = sum(p_G * sens * P_M for p_G, sens, f_pos in groups) / P_T\n",
    "    \n",
    "    return P_M_given_T\n",
    "\n",
    "print(f\"Probabilità di avere la malattia se il test è positivo (senza conoscere l'età): {prob_m_given_t() * 100:.2f}%\")"
   ]
  },
  {
   "cell_type": "code",
   "execution_count": null,
   "id": "96d1e83c-4450-44e8-acdd-f09172d20f4a",
   "metadata": {},
   "outputs": [],
   "source": []
  }
 ],
 "metadata": {
  "kernelspec": {
   "display_name": "Python 3 (ipykernel)",
   "language": "python",
   "name": "python3"
  },
  "language_info": {
   "codemirror_mode": {
    "name": "ipython",
    "version": 3
   },
   "file_extension": ".py",
   "mimetype": "text/x-python",
   "name": "python",
   "nbconvert_exporter": "python",
   "pygments_lexer": "ipython3",
   "version": "3.13.1"
  }
 },
 "nbformat": 4,
 "nbformat_minor": 5
}
