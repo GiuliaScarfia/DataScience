{
 "cells": [
  {
   "cell_type": "markdown",
   "id": "426633a3-d08e-4071-a8d6-5e4910c55c53",
   "metadata": {},
   "source": [
    "### Exercise: Fashion MNIST Classification\n",
    "\n",
    "**Your Task**: Adapt the CNN model we've built to classify the Fashion MNIST dataset.\n",
    "\n",
    "The Fashion MNIST dataset consists of 28×28 grayscale images of 10 fashion categories:\n",
    "- 0: T-shirt/top\n",
    "- 1: Trouser\n",
    "- 2: Pullover\n",
    "- 3: Dress\n",
    "- 4: Coat\n",
    "- 5: Sandal\n",
    "- 6: Shirt\n",
    "- 7: Sneaker\n",
    "- 8: Bag\n",
    "- 9: Ankle boot\n",
    "\n",
    "**Steps**:\n",
    "1. Load the Fashion MNIST dataset instead of regular MNIST\n",
    "2. Adapt the CNN model if necessary (you might want to use more filters or deeper architecture for this more complex dataset)\n",
    "3. Train and evaluate the model\n",
    "4. Visualize the results and compare with the digit classification results\n",
    "\n",
    "**Hint**: You can load Fashion MNIST using `torchvision.datasets.FashionMNIST` instead of `datasets.MNIST`."
   ]
  },
  {
   "cell_type": "code",
   "execution_count": 1,
   "id": "a5ce7786-87fe-4ceb-86cc-3a6d7534b3f2",
   "metadata": {},
   "outputs": [
    {
     "name": "stdout",
     "output_type": "stream",
     "text": [
      "Requirement already satisfied: pytorch-lightning in c:\\users\\giuli\\pycharmprojects\\datascience\\.env\\lib\\site-packages (2.5.1)\n",
      "Requirement already satisfied: torch>=2.1.0 in c:\\users\\giuli\\pycharmprojects\\datascience\\.env\\lib\\site-packages (from pytorch-lightning) (2.6.0+cpu)\n",
      "Requirement already satisfied: tqdm>=4.57.0 in c:\\users\\giuli\\pycharmprojects\\datascience\\.env\\lib\\site-packages (from pytorch-lightning) (4.67.1)\n",
      "Requirement already satisfied: PyYAML>=5.4 in c:\\users\\giuli\\pycharmprojects\\datascience\\.env\\lib\\site-packages (from pytorch-lightning) (6.0.2)\n",
      "Requirement already satisfied: fsspec>=2022.5.0 in c:\\users\\giuli\\pycharmprojects\\datascience\\.env\\lib\\site-packages (from fsspec[http]>=2022.5.0->pytorch-lightning) (2025.3.0)\n",
      "Requirement already satisfied: torchmetrics>=0.7.0 in c:\\users\\giuli\\pycharmprojects\\datascience\\.env\\lib\\site-packages (from pytorch-lightning) (1.7.0)\n",
      "Requirement already satisfied: packaging>=20.0 in c:\\users\\giuli\\pycharmprojects\\datascience\\.env\\lib\\site-packages (from pytorch-lightning) (24.2)\n",
      "Requirement already satisfied: typing-extensions>=4.4.0 in c:\\users\\giuli\\pycharmprojects\\datascience\\.env\\lib\\site-packages (from pytorch-lightning) (4.12.2)\n",
      "Requirement already satisfied: lightning-utilities>=0.10.0 in c:\\users\\giuli\\pycharmprojects\\datascience\\.env\\lib\\site-packages (from pytorch-lightning) (0.14.2)\n",
      "Requirement already satisfied: aiohttp!=4.0.0a0,!=4.0.0a1 in c:\\users\\giuli\\pycharmprojects\\datascience\\.env\\lib\\site-packages (from fsspec[http]>=2022.5.0->pytorch-lightning) (3.11.14)\n",
      "Requirement already satisfied: setuptools in c:\\users\\giuli\\pycharmprojects\\datascience\\.env\\lib\\site-packages (from lightning-utilities>=0.10.0->pytorch-lightning) (75.8.0)\n",
      "Requirement already satisfied: filelock in c:\\users\\giuli\\pycharmprojects\\datascience\\.env\\lib\\site-packages (from torch>=2.1.0->pytorch-lightning) (3.18.0)\n",
      "Requirement already satisfied: networkx in c:\\users\\giuli\\pycharmprojects\\datascience\\.env\\lib\\site-packages (from torch>=2.1.0->pytorch-lightning) (3.4.2)\n",
      "Requirement already satisfied: jinja2 in c:\\users\\giuli\\pycharmprojects\\datascience\\.env\\lib\\site-packages (from torch>=2.1.0->pytorch-lightning) (3.1.5)\n",
      "Requirement already satisfied: sympy==1.13.1 in c:\\users\\giuli\\pycharmprojects\\datascience\\.env\\lib\\site-packages (from torch>=2.1.0->pytorch-lightning) (1.13.1)\n",
      "Requirement already satisfied: mpmath<1.4,>=1.1.0 in c:\\users\\giuli\\pycharmprojects\\datascience\\.env\\lib\\site-packages (from sympy==1.13.1->torch>=2.1.0->pytorch-lightning) (1.3.0)\n",
      "Requirement already satisfied: numpy>1.20.0 in c:\\users\\giuli\\pycharmprojects\\datascience\\.env\\lib\\site-packages (from torchmetrics>=0.7.0->pytorch-lightning) (2.1.3)\n",
      "Requirement already satisfied: colorama in c:\\users\\giuli\\pycharmprojects\\datascience\\.env\\lib\\site-packages (from tqdm>=4.57.0->pytorch-lightning) (0.4.6)\n",
      "Requirement already satisfied: aiohappyeyeballs>=2.3.0 in c:\\users\\giuli\\pycharmprojects\\datascience\\.env\\lib\\site-packages (from aiohttp!=4.0.0a0,!=4.0.0a1->fsspec[http]>=2022.5.0->pytorch-lightning) (2.6.1)\n",
      "Requirement already satisfied: aiosignal>=1.1.2 in c:\\users\\giuli\\pycharmprojects\\datascience\\.env\\lib\\site-packages (from aiohttp!=4.0.0a0,!=4.0.0a1->fsspec[http]>=2022.5.0->pytorch-lightning) (1.3.2)\n",
      "Requirement already satisfied: attrs>=17.3.0 in c:\\users\\giuli\\pycharmprojects\\datascience\\.env\\lib\\site-packages (from aiohttp!=4.0.0a0,!=4.0.0a1->fsspec[http]>=2022.5.0->pytorch-lightning) (25.1.0)\n",
      "Requirement already satisfied: frozenlist>=1.1.1 in c:\\users\\giuli\\pycharmprojects\\datascience\\.env\\lib\\site-packages (from aiohttp!=4.0.0a0,!=4.0.0a1->fsspec[http]>=2022.5.0->pytorch-lightning) (1.5.0)\n",
      "Requirement already satisfied: multidict<7.0,>=4.5 in c:\\users\\giuli\\pycharmprojects\\datascience\\.env\\lib\\site-packages (from aiohttp!=4.0.0a0,!=4.0.0a1->fsspec[http]>=2022.5.0->pytorch-lightning) (6.2.0)\n",
      "Requirement already satisfied: propcache>=0.2.0 in c:\\users\\giuli\\pycharmprojects\\datascience\\.env\\lib\\site-packages (from aiohttp!=4.0.0a0,!=4.0.0a1->fsspec[http]>=2022.5.0->pytorch-lightning) (0.3.1)\n",
      "Requirement already satisfied: yarl<2.0,>=1.17.0 in c:\\users\\giuli\\pycharmprojects\\datascience\\.env\\lib\\site-packages (from aiohttp!=4.0.0a0,!=4.0.0a1->fsspec[http]>=2022.5.0->pytorch-lightning) (1.18.3)\n",
      "Requirement already satisfied: MarkupSafe>=2.0 in c:\\users\\giuli\\pycharmprojects\\datascience\\.env\\lib\\site-packages (from jinja2->torch>=2.1.0->pytorch-lightning) (3.0.2)\n",
      "Requirement already satisfied: idna>=2.0 in c:\\users\\giuli\\pycharmprojects\\datascience\\.env\\lib\\site-packages (from yarl<2.0,>=1.17.0->aiohttp!=4.0.0a0,!=4.0.0a1->fsspec[http]>=2022.5.0->pytorch-lightning) (3.10)\n"
     ]
    }
   ],
   "source": [
    "!pip install pytorch-lightning"
   ]
  },
  {
   "cell_type": "code",
   "execution_count": 6,
   "id": "8aeeac6d-936b-49de-88b5-aa76b570e6f0",
   "metadata": {},
   "outputs": [
    {
     "name": "stderr",
     "output_type": "stream",
     "text": [
      "You are using the plain ModelCheckpoint callback. Consider using LitModelCheckpoint which with seamless uploading to Model registry.\n",
      "GPU available: False, used: False\n",
      "TPU available: False, using: 0 TPU cores\n",
      "HPU available: False, using: 0 HPUs\n",
      "C:\\Users\\giuli\\PycharmProjects\\DataScience\\.env\\Lib\\site-packages\\pytorch_lightning\\trainer\\connectors\\logger_connector\\logger_connector.py:76: Starting from v1.9.0, `tensorboardX` has been removed as a dependency of the `pytorch_lightning` package, due to potential conflicts with other packages in the ML ecosystem. For this reason, `logger=True` will use `CSVLogger` as the default logger, unless the `tensorboard` or `tensorboardX` packages are found. Please `pip install lightning[extra]` or one of them to enable TensorBoard support by default\n",
      "\n",
      "  | Name      | Type               | Params | Mode \n",
      "---------------------------------------------------------\n",
      "0 | conv1     | Conv2d             | 320    | train\n",
      "1 | conv2     | Conv2d             | 18.5 K | train\n",
      "2 | conv3     | Conv2d             | 73.9 K | train\n",
      "3 | fc1       | Linear             | 295 K  | train\n",
      "4 | fc2       | Linear             | 2.6 K  | train\n",
      "5 | pool      | MaxPool2d          | 0      | train\n",
      "6 | dropout   | Dropout            | 0      | train\n",
      "7 | train_acc | MulticlassAccuracy | 0      | train\n",
      "8 | val_acc   | MulticlassAccuracy | 0      | train\n",
      "9 | test_acc  | MulticlassAccuracy | 0      | train\n",
      "---------------------------------------------------------\n",
      "390 K     Trainable params\n",
      "0         Non-trainable params\n",
      "390 K     Total params\n",
      "1.562     Total estimated model params size (MB)\n",
      "10        Modules in train mode\n",
      "0         Modules in eval mode\n"
     ]
    },
    {
     "data": {
      "application/vnd.jupyter.widget-view+json": {
       "model_id": "62835c99fc4f4d3faa4fc8e80728af25",
       "version_major": 2,
       "version_minor": 0
      },
      "text/plain": [
       "Sanity Checking: |                                           | 0/? [00:00<?, ?it/s]"
      ]
     },
     "metadata": {},
     "output_type": "display_data"
    },
    {
     "name": "stderr",
     "output_type": "stream",
     "text": [
      "C:\\Users\\giuli\\PycharmProjects\\DataScience\\.env\\Lib\\site-packages\\pytorch_lightning\\trainer\\connectors\\data_connector.py:420: Consider setting `persistent_workers=True` in 'val_dataloader' to speed up the dataloader worker initialization.\n",
      "C:\\Users\\giuli\\PycharmProjects\\DataScience\\.env\\Lib\\site-packages\\pytorch_lightning\\trainer\\connectors\\data_connector.py:420: Consider setting `persistent_workers=True` in 'train_dataloader' to speed up the dataloader worker initialization.\n"
     ]
    },
    {
     "data": {
      "application/vnd.jupyter.widget-view+json": {
       "model_id": "9acf32282aa04edaad56892603963659",
       "version_major": 2,
       "version_minor": 0
      },
      "text/plain": [
       "Training: |                                                  | 0/? [00:00<?, ?it/s]"
      ]
     },
     "metadata": {},
     "output_type": "display_data"
    },
    {
     "data": {
      "application/vnd.jupyter.widget-view+json": {
       "model_id": "5a04ecdbdee64a3d840a05ddc7b602c9",
       "version_major": 2,
       "version_minor": 0
      },
      "text/plain": [
       "Validation: |                                                | 0/? [00:00<?, ?it/s]"
      ]
     },
     "metadata": {},
     "output_type": "display_data"
    },
    {
     "data": {
      "application/vnd.jupyter.widget-view+json": {
       "model_id": "24a53776147e4272894e3404836d28fd",
       "version_major": 2,
       "version_minor": 0
      },
      "text/plain": [
       "Validation: |                                                | 0/? [00:00<?, ?it/s]"
      ]
     },
     "metadata": {},
     "output_type": "display_data"
    },
    {
     "data": {
      "application/vnd.jupyter.widget-view+json": {
       "model_id": "fda716cc52494792b8276a2eae78f157",
       "version_major": 2,
       "version_minor": 0
      },
      "text/plain": [
       "Validation: |                                                | 0/? [00:00<?, ?it/s]"
      ]
     },
     "metadata": {},
     "output_type": "display_data"
    },
    {
     "data": {
      "application/vnd.jupyter.widget-view+json": {
       "model_id": "25f5eb4c957b463a90fa83e9ad408f19",
       "version_major": 2,
       "version_minor": 0
      },
      "text/plain": [
       "Validation: |                                                | 0/? [00:00<?, ?it/s]"
      ]
     },
     "metadata": {},
     "output_type": "display_data"
    },
    {
     "data": {
      "application/vnd.jupyter.widget-view+json": {
       "model_id": "27ab25ffda3844bdb17bdbba6b256067",
       "version_major": 2,
       "version_minor": 0
      },
      "text/plain": [
       "Validation: |                                                | 0/? [00:00<?, ?it/s]"
      ]
     },
     "metadata": {},
     "output_type": "display_data"
    },
    {
     "data": {
      "application/vnd.jupyter.widget-view+json": {
       "model_id": "2178e7bfe9234502941c4cd7f02a5bc8",
       "version_major": 2,
       "version_minor": 0
      },
      "text/plain": [
       "Validation: |                                                | 0/? [00:00<?, ?it/s]"
      ]
     },
     "metadata": {},
     "output_type": "display_data"
    },
    {
     "data": {
      "application/vnd.jupyter.widget-view+json": {
       "model_id": "51d7dad423d04ce9aa2966138e0033f2",
       "version_major": 2,
       "version_minor": 0
      },
      "text/plain": [
       "Validation: |                                                | 0/? [00:00<?, ?it/s]"
      ]
     },
     "metadata": {},
     "output_type": "display_data"
    },
    {
     "data": {
      "application/vnd.jupyter.widget-view+json": {
       "model_id": "99ad951675074ce194323c001411dc1a",
       "version_major": 2,
       "version_minor": 0
      },
      "text/plain": [
       "Validation: |                                                | 0/? [00:00<?, ?it/s]"
      ]
     },
     "metadata": {},
     "output_type": "display_data"
    },
    {
     "data": {
      "application/vnd.jupyter.widget-view+json": {
       "model_id": "5537326a288f4154a5c8ae87565f38b6",
       "version_major": 2,
       "version_minor": 0
      },
      "text/plain": [
       "Validation: |                                                | 0/? [00:00<?, ?it/s]"
      ]
     },
     "metadata": {},
     "output_type": "display_data"
    },
    {
     "data": {
      "application/vnd.jupyter.widget-view+json": {
       "model_id": "2489a3165c254e168eb1e2804f55cf16",
       "version_major": 2,
       "version_minor": 0
      },
      "text/plain": [
       "Validation: |                                                | 0/? [00:00<?, ?it/s]"
      ]
     },
     "metadata": {},
     "output_type": "display_data"
    },
    {
     "name": "stderr",
     "output_type": "stream",
     "text": [
      "`Trainer.fit` stopped: `max_epochs=10` reached.\n",
      "C:\\Users\\giuli\\PycharmProjects\\DataScience\\.env\\Lib\\site-packages\\pytorch_lightning\\trainer\\connectors\\data_connector.py:420: Consider setting `persistent_workers=True` in 'test_dataloader' to speed up the dataloader worker initialization.\n"
     ]
    },
    {
     "data": {
      "application/vnd.jupyter.widget-view+json": {
       "model_id": "83bbc6d971ef4a83a2159ceea3895aad",
       "version_major": 2,
       "version_minor": 0
      },
      "text/plain": [
       "Testing: |                                                   | 0/? [00:00<?, ?it/s]"
      ]
     },
     "metadata": {},
     "output_type": "display_data"
    },
    {
     "name": "stdout",
     "output_type": "stream",
     "text": [
      "────────────────────────────────────────────────────────────────────────────────────\n",
      "       Test metric             DataLoader 0\n",
      "────────────────────────────────────────────────────────────────────────────────────\n",
      "        test_acc            0.9174000024795532\n",
      "        test_loss            0.251870334148407\n",
      "────────────────────────────────────────────────────────────────────────────────────\n"
     ]
    },
    {
     "data": {
      "image/png": "[encoded data removed]",
      "text/plain": [
       "<Figure size 1200x800 with 15 Axes>"
      ]
     },
     "metadata": {},
     "output_type": "display_data"
    }
   ],
   "source": [
    "import torch\n",
    "import torch.nn as nn\n",
    "import torch.nn.functional as F\n",
    "from torch.utils.data import DataLoader, random_split\n",
    "from torchvision import datasets, transforms\n",
    "import pytorch_lightning as pl\n",
    "from torchmetrics import Accuracy  # Import da torchmetrics invece che pytorch_lightning\n",
    "import matplotlib.pyplot as plt\n",
    "\n",
    "# Definizione delle trasformazioni\n",
    "fashion_transform = transforms.Compose([\n",
    "    transforms.ToTensor(),\n",
    "    transforms.Normalize((0.2860,), (0.3530,))\n",
    "])\n",
    "\n",
    "# DataModule\n",
    "class FashionMNISTDataModule(pl.LightningDataModule):\n",
    "    def __init__(self, data_dir=\"./data\", batch_size=64, num_workers=4):\n",
    "        super().__init__()\n",
    "        self.data_dir = data_dir\n",
    "        self.batch_size = batch_size\n",
    "        self.num_workers = num_workers\n",
    "\n",
    "    def prepare_data(self):\n",
    "        datasets.FashionMNIST(self.data_dir, train=True, download=True)\n",
    "        datasets.FashionMNIST(self.data_dir, train=False, download=True)\n",
    "\n",
    "    def setup(self, stage=None):\n",
    "        dataset = datasets.FashionMNIST(self.data_dir, train=True, transform=fashion_transform)\n",
    "        self.train_data, self.val_data = random_split(dataset, [50000, 10000])\n",
    "        self.test_data = datasets.FashionMNIST(self.data_dir, train=False, transform=fashion_transform)\n",
    "\n",
    "    def train_dataloader(self):\n",
    "        return DataLoader(self.train_data, batch_size=self.batch_size, \n",
    "                         shuffle=True, num_workers=self.num_workers)\n",
    "\n",
    "    def val_dataloader(self): \n",
    "        return DataLoader(self.val_data, batch_size=self.batch_size, \n",
    "                         num_workers=self.num_workers)\n",
    "\n",
    "    def test_dataloader(self):\n",
    "        return DataLoader(self.test_data, batch_size=self.batch_size, \n",
    "                         num_workers=self.num_workers)\n",
    "\n",
    "# Modello CNN\n",
    "class FashionMNISTClassifierCNN(pl.LightningModule):\n",
    "    def __init__(self, num_classes=10):\n",
    "        super().__init__()\n",
    "        self.conv1 = nn.Conv2d(1, 32, kernel_size=3, padding=1)\n",
    "        self.conv2 = nn.Conv2d(32, 64, kernel_size=3, padding=1)\n",
    "        self.conv3 = nn.Conv2d(64, 128, kernel_size=3, padding=1)\n",
    "        self.fc1 = nn.Linear(128 * 3 * 3, 256)\n",
    "        self.fc2 = nn.Linear(256, num_classes)\n",
    "        self.pool = nn.MaxPool2d(2, 2)\n",
    "        self.dropout = nn.Dropout(0.25)\n",
    "        \n",
    "        # Metriche da torchmetrics\n",
    "        self.train_acc = Accuracy(task='multiclass', num_classes=num_classes)\n",
    "        self.val_acc = Accuracy(task='multiclass', num_classes=num_classes)\n",
    "        self.test_acc = Accuracy(task='multiclass', num_classes=num_classes)\n",
    "\n",
    "    def forward(self, x):\n",
    "        x = self.pool(F.relu(self.conv1(x)))\n",
    "        x = self.pool(F.relu(self.conv2(x)))\n",
    "        x = self.pool(F.relu(self.conv3(x)))\n",
    "        x = torch.flatten(x, 1)\n",
    "        x = F.relu(self.fc1(x))\n",
    "        x = self.dropout(x)\n",
    "        x = self.fc2(x)\n",
    "        return x\n",
    "\n",
    "    def training_step(self, batch, batch_idx):\n",
    "        x, y = batch\n",
    "        logits = self(x)\n",
    "        loss = F.cross_entropy(logits, y)\n",
    "        self.train_acc(logits, y)\n",
    "        self.log(\"train_loss\", loss, on_step=True, on_epoch=True)\n",
    "        self.log(\"train_acc\", self.train_acc, on_step=True, on_epoch=True)\n",
    "        return loss\n",
    "\n",
    "    def validation_step(self, batch, batch_idx):\n",
    "        x, y = batch\n",
    "        logits = self(x)\n",
    "        loss = F.cross_entropy(logits, y)\n",
    "        self.val_acc(logits, y)\n",
    "        self.log(\"val_loss\", loss, prog_bar=True)\n",
    "        self.log(\"val_acc\", self.val_acc, prog_bar=True)\n",
    "\n",
    "    def test_step(self, batch, batch_idx):\n",
    "        x, y = batch\n",
    "        logits = self(x)\n",
    "        loss = F.cross_entropy(logits, y)\n",
    "        self.test_acc(logits, y)\n",
    "        self.log(\"test_loss\", loss)\n",
    "        self.log(\"test_acc\", self.test_acc)\n",
    "\n",
    "    def configure_optimizers(self):\n",
    "        return torch.optim.Adam(self.parameters(), lr=0.001)\n",
    "\n",
    "# Funzione di visualizzazione\n",
    "def visualize_predictions(model, dataloader, class_names):\n",
    "    model.eval()\n",
    "    images, labels = next(iter(dataloader))\n",
    "    with torch.no_grad():\n",
    "        outputs = model(images)\n",
    "    preds = outputs.argmax(dim=1)\n",
    "    \n",
    "    fig, axes = plt.subplots(3, 5, figsize=(12, 8))\n",
    "    axes = axes.flatten()\n",
    "    for img, label, pred, ax in zip(images[:15], labels[:15], preds[:15], axes):\n",
    "        img = img.squeeze().numpy()\n",
    "        ax.imshow(img, cmap=\"gray\")\n",
    "        ax.set_title(f\"True: {class_names[label.item()]}\\nPred: {class_names[pred.item()]}\", \n",
    "                    color='green' if label == pred else 'red')\n",
    "        ax.axis(\"off\")\n",
    "    plt.tight_layout()\n",
    "    plt.show()\n",
    "\n",
    "# Esecuzione\n",
    "if __name__ == \"__main__\":\n",
    "    fashion_class_names = ['T-shirt/top', 'Trouser', 'Pullover', 'Dress', 'Coat',\n",
    "                         'Sandal', 'Shirt', 'Sneaker', 'Bag', 'Ankle boot']\n",
    "    \n",
    "    data_module = FashionMNISTDataModule(batch_size=64, num_workers=4)\n",
    "    model = FashionMNISTClassifierCNN()\n",
    "    \n",
    "# Configurazione del Trainer corretta\n",
    "    trainer = pl.Trainer(\n",
    "    max_epochs=10,\n",
    "    accelerator=\"auto\",\n",
    "    devices=\"auto\" if torch.cuda.is_available() else 1,  # 1 per CPU, \"auto\" per GPU\n",
    "    enable_progress_bar=True\n",
    ")\n",
    "    \n",
    "    trainer.fit(model, datamodule=data_module)\n",
    "    trainer.test(model, datamodule=data_module)\n",
    "    \n",
    "    test_dataloader = data_module.test_dataloader()\n",
    "    visualize_predictions(model, test_dataloader, fashion_class_names)"
   ]
  },
  {
   "cell_type": "markdown",
   "id": "62a9b99c-9a40-4386-bd24-be899d101f96",
   "metadata": {},
   "source": [
    "I have adapted the code for Fashion MNIST classification, including:\n",
    "\n",
    "FashionMNISTDataModule: Similar to MNISTDataModule but using Fashion MNIST data.\n",
    "\n",
    "FashionMNISTClassifierCNN: A deeper CNN with three convolutional layers to better handle the increased complexity of the images.\n",
    "\n",
    "Training and evaluation process: Using PyTorch Lightning for efficient training."
   ]
  },
  {
   "cell_type": "markdown",
   "id": "3ceda612-3be1-4c15-b186-06a889fa313e",
   "metadata": {},
   "source": [
    "**I reached epoch 9, with a validation accuracy of 92.7% and a loss of 0.236. After training, the accuracy on the test data is 91.74% with a loss of 0.252.** This indicates a good result on both the validation and test sets."
   ]
  },
  {
   "cell_type": "code",
   "execution_count": null,
   "id": "cd175c31-47ef-49af-a98e-775d815cd61a",
   "metadata": {},
   "outputs": [],
   "source": []
  }
 ],
 "metadata": {
  "kernelspec": {
   "display_name": "Python 3 (ipykernel)",
   "language": "python",
   "name": "python3"
  },
  "language_info": {
   "codemirror_mode": {
    "name": "ipython",
    "version": 3
   },
   "file_extension": ".py",
   "mimetype": "text/x-python",
   "name": "python",
   "nbconvert_exporter": "python",
   "pygments_lexer": "ipython3",
   "version": "3.13.1"
  }
 },
 "nbformat": 4,
 "nbformat_minor": 5
}
